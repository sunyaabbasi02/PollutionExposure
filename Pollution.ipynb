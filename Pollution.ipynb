{
 "cells": [
  {
   "cell_type": "markdown",
   "id": "d176f42e",
   "metadata": {},
   "source": [
    "# Analysis of Pollution Exposure in California\n",
    "### Storytelling through visualization and A/B Testing by Sunya Abbasi"
   ]
  },
  {
   "cell_type": "markdown",
   "id": "fe1d8537",
   "metadata": {},
   "source": [
    "### Intro"
   ]
  },
  {
   "cell_type": "markdown",
   "id": "2af4a072",
   "metadata": {},
   "source": [
    "<b>The Data:</b> I will be looking at data I downloaded from the California Office of Environmental\n",
    "Health Hazard Assessment website. The granuarity of the data is each census tract from the 2010 Census. The dataframe includes features that measure pollution and its impacts on our environment and community. Additionally, the dataframe has features to represent various socioeconomic characteristcs of each census tract based on data from the 2019 American Community Survey from the Census Bureau. \n",
    "\n",
    "<b>My Project:</b> For my project, I want to look at how exposure to pollution burden on different communities and its harmful effects in California. Secondly, I will perform A/B testing to see if there is a difference in the distribution of emergency asthma visits per 10,000 people for people living in areas with low versus high pollution levels."
   ]
  },
  {
   "cell_type": "code",
   "execution_count": 35,
   "id": "f566fc2c",
   "metadata": {},
   "outputs": [],
   "source": [
    "#importing libraries\n",
    "import pandas as pd\n",
    "import numpy as np\n",
    "import matplotlib.pyplot as plt\n",
    "import seaborn as sns"
   ]
  },
  {
   "cell_type": "code",
   "execution_count": 36,
   "id": "0d01ba2a",
   "metadata": {},
   "outputs": [],
   "source": [
    "#reading in tables\n",
    "df = pd.read_csv(\"calenviro.csv\")\n",
    "demo = pd.read_csv(\"demographicscalenviro.csv\")"
   ]
  },
  {
   "cell_type": "code",
   "execution_count": 114,
   "id": "150a13d1-6a86-4460-8f64-2d745d5f2ff1",
   "metadata": {},
   "outputs": [
    {
     "data": {
      "text/plain": [
       "Index(['Census Tract', 'Total Population', 'California County', 'ZIP',\n",
       "       'Approximate Location', 'Longitude', 'Latitude', 'CES 4.0 Score',\n",
       "       ' CES 4.0 Percentile', 'CES 4.0 Percentile Range', 'Ozone',\n",
       "       'Ozone Pctl', 'PM2.5', 'PM2.5 Pctl', 'Diesel PM', 'Diesel PM Pctl',\n",
       "       'Drinking Water', 'Drinking Water Pctl', 'Lead', 'Lead Pctl',\n",
       "       'Pesticides', 'Pesticides Pctl', 'Tox. Release', 'Tox. Release Pctl',\n",
       "       'Traffic', 'Traffic Pctl', 'Cleanup Sites', 'Cleanup Sites Pctl',\n",
       "       'Groundwater Threats', 'Groundwater Threats Pctl', 'Haz. Waste',\n",
       "       'Haz. Waste Pctl', 'Imp. Water Bodies', 'Imp. Water Bodies Pctl',\n",
       "       'Solid Waste', 'Solid Waste Pctl', 'Pollution Burden',\n",
       "       'Pollution Burden Score', 'Pollution Burden Pctl', 'Asthma',\n",
       "       'Asthma Pctl', 'Low Birth Weight', 'Low Birth Weight Pctl',\n",
       "       'Cardiovascular Disease', 'Cardiovascular Disease Pctl', 'Education',\n",
       "       'Education Pctl', 'Linguistic Isolation', 'Linguistic Isolation Pctl',\n",
       "       'Poverty', 'Poverty Pctl', 'Unemployment', 'Unemployment Pctl',\n",
       "       'Housing Burden', 'Housing Burden Pctl', 'Pop. Char. ',\n",
       "       'Pop. Char. Score', 'Pop. Char. Pctl'],\n",
       "      dtype='object')"
      ]
     },
     "execution_count": 114,
     "metadata": {},
     "output_type": "execute_result"
    }
   ],
   "source": [
    "df.columns"
   ]
  },
  {
   "cell_type": "markdown",
   "id": "7198a9fe-ebca-4c31-a81a-0230b59eef35",
   "metadata": {},
   "source": [
    "### Defining Key Features\n",
    "\n",
    "<b>\"Asthma\"</b>: The rate of emergency department visits for Asthma per 10,000.\n",
    "\n",
    "<b>\"Pollution Burden Score\"</b>: Derived by OEHHA through averaging percentiles of seven Exposures indicators and five Environmental Effects indicators to create a score ranging from 0.1 to 10."
   ]
  },
  {
   "cell_type": "markdown",
   "id": "cf87ba08",
   "metadata": {},
   "source": [
    "## Data Cleaning & Prep"
   ]
  },
  {
   "cell_type": "code",
   "execution_count": 38,
   "id": "f769c25e",
   "metadata": {},
   "outputs": [],
   "source": [
    "f = demo.iloc[0]"
   ]
  },
  {
   "cell_type": "code",
   "execution_count": 39,
   "id": "255f1796",
   "metadata": {},
   "outputs": [],
   "source": [
    "demo.columns = f\n",
    "demo_length = len(demo)\n",
    "demo = demo.iloc[1:demo_length + 1]\n",
    "demo = demo.astype({'Census Tract' : \"int64\", 'Hispanic (%)' : \"float\", 'White (%)': \"float\", \n",
    "                    'African American (%)': \"float\",'Native American (%)': \"float\", \n",
    "                    'Asian American (%)': \"float\", 'Other/Multiple (%)': \"float\", \"Total Population\": \"int64\"})"
   ]
  },
  {
   "cell_type": "code",
   "execution_count": 40,
   "id": "952c4fc5",
   "metadata": {},
   "outputs": [],
   "source": [
    "df_imp = df[['Census Tract', 'Total Population', 'Pollution Burden Score', 'Asthma']]\n",
    "df_imp = df_imp[df_imp[\"Total Population\"] > 0]\n",
    "df_imp = df_imp.astype({\"Pollution Burden Score\" : \"float\", \"Asthma\": \"float\"})\n",
    "demo_imp = demo[['Census Tract', 'Hispanic (%)', 'White (%)','African American (%)', 'Native American (%)', \n",
    "               'Asian American (%)','Other/Multiple (%)']]\n",
    "full_df = df_imp.merge(demo_imp, 'left', 'Census Tract')\n",
    "\n"
   ]
  },
  {
   "cell_type": "code",
   "execution_count": 41,
   "id": "4ba431cd",
   "metadata": {},
   "outputs": [
    {
     "data": {
      "text/html": [
       "<div>\n",
       "<style scoped>\n",
       "    .dataframe tbody tr th:only-of-type {\n",
       "        vertical-align: middle;\n",
       "    }\n",
       "\n",
       "    .dataframe tbody tr th {\n",
       "        vertical-align: top;\n",
       "    }\n",
       "\n",
       "    .dataframe thead th {\n",
       "        text-align: right;\n",
       "    }\n",
       "</style>\n",
       "<table border=\"1\" class=\"dataframe\">\n",
       "  <thead>\n",
       "    <tr style=\"text-align: right;\">\n",
       "      <th></th>\n",
       "      <th>Census Tract</th>\n",
       "      <th>Total Population</th>\n",
       "      <th>Pollution Burden Score</th>\n",
       "      <th>Asthma</th>\n",
       "      <th>Hispanic (%)</th>\n",
       "      <th>White (%)</th>\n",
       "      <th>African American (%)</th>\n",
       "      <th>Native American (%)</th>\n",
       "      <th>Asian American (%)</th>\n",
       "      <th>Other/Multiple (%)</th>\n",
       "    </tr>\n",
       "  </thead>\n",
       "  <tbody>\n",
       "    <tr>\n",
       "      <th>0</th>\n",
       "      <td>6019001100</td>\n",
       "      <td>2780</td>\n",
       "      <td>9.64</td>\n",
       "      <td>129.54</td>\n",
       "      <td>0.7403</td>\n",
       "      <td>0.0252</td>\n",
       "      <td>0.1978</td>\n",
       "      <td>0.0007</td>\n",
       "      <td>0.0097</td>\n",
       "      <td>0.0263</td>\n",
       "    </tr>\n",
       "    <tr>\n",
       "      <th>1</th>\n",
       "      <td>6077000700</td>\n",
       "      <td>4680</td>\n",
       "      <td>8.97</td>\n",
       "      <td>105.88</td>\n",
       "      <td>0.6692</td>\n",
       "      <td>0.0814</td>\n",
       "      <td>0.0835</td>\n",
       "      <td>0.0000</td>\n",
       "      <td>0.1494</td>\n",
       "      <td>0.0165</td>\n",
       "    </tr>\n",
       "    <tr>\n",
       "      <th>2</th>\n",
       "      <td>6037204920</td>\n",
       "      <td>2751</td>\n",
       "      <td>9.48</td>\n",
       "      <td>76.10</td>\n",
       "      <td>0.9727</td>\n",
       "      <td>0.0171</td>\n",
       "      <td>0.0084</td>\n",
       "      <td>0.0000</td>\n",
       "      <td>0.0000</td>\n",
       "      <td>0.0018</td>\n",
       "    </tr>\n",
       "    <tr>\n",
       "      <th>3</th>\n",
       "      <td>6019000700</td>\n",
       "      <td>3664</td>\n",
       "      <td>8.28</td>\n",
       "      <td>139.45</td>\n",
       "      <td>0.6681</td>\n",
       "      <td>0.0259</td>\n",
       "      <td>0.1930</td>\n",
       "      <td>0.0027</td>\n",
       "      <td>0.0849</td>\n",
       "      <td>0.0254</td>\n",
       "    </tr>\n",
       "    <tr>\n",
       "      <th>4</th>\n",
       "      <td>6019000200</td>\n",
       "      <td>2689</td>\n",
       "      <td>8.16</td>\n",
       "      <td>139.08</td>\n",
       "      <td>0.7367</td>\n",
       "      <td>0.0614</td>\n",
       "      <td>0.1186</td>\n",
       "      <td>0.0011</td>\n",
       "      <td>0.0807</td>\n",
       "      <td>0.0015</td>\n",
       "    </tr>\n",
       "  </tbody>\n",
       "</table>\n",
       "</div>"
      ],
      "text/plain": [
       "   Census Tract  Total Population  Pollution Burden Score  Asthma  \\\n",
       "0    6019001100              2780                    9.64  129.54   \n",
       "1    6077000700              4680                    8.97  105.88   \n",
       "2    6037204920              2751                    9.48   76.10   \n",
       "3    6019000700              3664                    8.28  139.45   \n",
       "4    6019000200              2689                    8.16  139.08   \n",
       "\n",
       "   Hispanic (%)  White (%)  African American (%)  Native American (%)  \\\n",
       "0        0.7403     0.0252                0.1978               0.0007   \n",
       "1        0.6692     0.0814                0.0835               0.0000   \n",
       "2        0.9727     0.0171                0.0084               0.0000   \n",
       "3        0.6681     0.0259                0.1930               0.0027   \n",
       "4        0.7367     0.0614                0.1186               0.0011   \n",
       "\n",
       "   Asian American (%)  Other/Multiple (%)  \n",
       "0              0.0097              0.0263  \n",
       "1              0.1494              0.0165  \n",
       "2              0.0000              0.0018  \n",
       "3              0.0849              0.0254  \n",
       "4              0.0807              0.0015  "
      ]
     },
     "execution_count": 41,
     "metadata": {},
     "output_type": "execute_result"
    }
   ],
   "source": [
    "names = ['Hispanic (%)', 'White (%)', 'African American (%)','Native American (%)', 'Asian American (%)', \n",
    "         'Other/Multiple (%)']\n",
    "for i in names:\n",
    "    full_df[i] = full_df[i] * 0.01\n",
    "full_df.head()"
   ]
  },
  {
   "cell_type": "code",
   "execution_count": 42,
   "id": "872642b5",
   "metadata": {},
   "outputs": [],
   "source": [
    "categories = ['Hispanic ', 'White ', 'African American ','Native American ', 'Asian American ', \n",
    "         'Other/Multiple ']\n",
    "for i in categories:\n",
    "    full_df[i + \"Population\"] = full_df[\"Total Population\"] * full_df[i + \"(%)\"]"
   ]
  },
  {
   "cell_type": "code",
   "execution_count": 43,
   "id": "2f60ceac",
   "metadata": {},
   "outputs": [
    {
     "data": {
      "text/html": [
       "<div>\n",
       "<style scoped>\n",
       "    .dataframe tbody tr th:only-of-type {\n",
       "        vertical-align: middle;\n",
       "    }\n",
       "\n",
       "    .dataframe tbody tr th {\n",
       "        vertical-align: top;\n",
       "    }\n",
       "\n",
       "    .dataframe thead th {\n",
       "        text-align: right;\n",
       "    }\n",
       "</style>\n",
       "<table border=\"1\" class=\"dataframe\">\n",
       "  <thead>\n",
       "    <tr style=\"text-align: right;\">\n",
       "      <th></th>\n",
       "      <th>Census Tract</th>\n",
       "      <th>Total Population</th>\n",
       "      <th>Pollution Burden Score</th>\n",
       "      <th>Asthma</th>\n",
       "      <th>Hispanic (%)</th>\n",
       "      <th>White (%)</th>\n",
       "      <th>African American (%)</th>\n",
       "      <th>Native American (%)</th>\n",
       "      <th>Asian American (%)</th>\n",
       "      <th>Other/Multiple (%)</th>\n",
       "      <th>Hispanic Population</th>\n",
       "      <th>White Population</th>\n",
       "      <th>African American Population</th>\n",
       "      <th>Native American Population</th>\n",
       "      <th>Asian American Population</th>\n",
       "      <th>Other/Multiple Population</th>\n",
       "    </tr>\n",
       "  </thead>\n",
       "  <tbody>\n",
       "    <tr>\n",
       "      <th>0</th>\n",
       "      <td>6019001100</td>\n",
       "      <td>2780</td>\n",
       "      <td>9.64</td>\n",
       "      <td>129.54</td>\n",
       "      <td>0.7403</td>\n",
       "      <td>0.0252</td>\n",
       "      <td>0.1978</td>\n",
       "      <td>0.0007</td>\n",
       "      <td>0.0097</td>\n",
       "      <td>0.0263</td>\n",
       "      <td>2058.0340</td>\n",
       "      <td>70.0560</td>\n",
       "      <td>549.8840</td>\n",
       "      <td>1.9460</td>\n",
       "      <td>26.9660</td>\n",
       "      <td>73.1140</td>\n",
       "    </tr>\n",
       "    <tr>\n",
       "      <th>1</th>\n",
       "      <td>6077000700</td>\n",
       "      <td>4680</td>\n",
       "      <td>8.97</td>\n",
       "      <td>105.88</td>\n",
       "      <td>0.6692</td>\n",
       "      <td>0.0814</td>\n",
       "      <td>0.0835</td>\n",
       "      <td>0.0000</td>\n",
       "      <td>0.1494</td>\n",
       "      <td>0.0165</td>\n",
       "      <td>3131.8560</td>\n",
       "      <td>380.9520</td>\n",
       "      <td>390.7800</td>\n",
       "      <td>0.0000</td>\n",
       "      <td>699.1920</td>\n",
       "      <td>77.2200</td>\n",
       "    </tr>\n",
       "    <tr>\n",
       "      <th>2</th>\n",
       "      <td>6037204920</td>\n",
       "      <td>2751</td>\n",
       "      <td>9.48</td>\n",
       "      <td>76.10</td>\n",
       "      <td>0.9727</td>\n",
       "      <td>0.0171</td>\n",
       "      <td>0.0084</td>\n",
       "      <td>0.0000</td>\n",
       "      <td>0.0000</td>\n",
       "      <td>0.0018</td>\n",
       "      <td>2675.8977</td>\n",
       "      <td>47.0421</td>\n",
       "      <td>23.1084</td>\n",
       "      <td>0.0000</td>\n",
       "      <td>0.0000</td>\n",
       "      <td>4.9518</td>\n",
       "    </tr>\n",
       "    <tr>\n",
       "      <th>3</th>\n",
       "      <td>6019000700</td>\n",
       "      <td>3664</td>\n",
       "      <td>8.28</td>\n",
       "      <td>139.45</td>\n",
       "      <td>0.6681</td>\n",
       "      <td>0.0259</td>\n",
       "      <td>0.1930</td>\n",
       "      <td>0.0027</td>\n",
       "      <td>0.0849</td>\n",
       "      <td>0.0254</td>\n",
       "      <td>2447.9184</td>\n",
       "      <td>94.8976</td>\n",
       "      <td>707.1520</td>\n",
       "      <td>9.8928</td>\n",
       "      <td>311.0736</td>\n",
       "      <td>93.0656</td>\n",
       "    </tr>\n",
       "    <tr>\n",
       "      <th>4</th>\n",
       "      <td>6019000200</td>\n",
       "      <td>2689</td>\n",
       "      <td>8.16</td>\n",
       "      <td>139.08</td>\n",
       "      <td>0.7367</td>\n",
       "      <td>0.0614</td>\n",
       "      <td>0.1186</td>\n",
       "      <td>0.0011</td>\n",
       "      <td>0.0807</td>\n",
       "      <td>0.0015</td>\n",
       "      <td>1980.9863</td>\n",
       "      <td>165.1046</td>\n",
       "      <td>318.9154</td>\n",
       "      <td>2.9579</td>\n",
       "      <td>217.0023</td>\n",
       "      <td>4.0335</td>\n",
       "    </tr>\n",
       "  </tbody>\n",
       "</table>\n",
       "</div>"
      ],
      "text/plain": [
       "   Census Tract  Total Population  Pollution Burden Score  Asthma  \\\n",
       "0    6019001100              2780                    9.64  129.54   \n",
       "1    6077000700              4680                    8.97  105.88   \n",
       "2    6037204920              2751                    9.48   76.10   \n",
       "3    6019000700              3664                    8.28  139.45   \n",
       "4    6019000200              2689                    8.16  139.08   \n",
       "\n",
       "   Hispanic (%)  White (%)  African American (%)  Native American (%)  \\\n",
       "0        0.7403     0.0252                0.1978               0.0007   \n",
       "1        0.6692     0.0814                0.0835               0.0000   \n",
       "2        0.9727     0.0171                0.0084               0.0000   \n",
       "3        0.6681     0.0259                0.1930               0.0027   \n",
       "4        0.7367     0.0614                0.1186               0.0011   \n",
       "\n",
       "   Asian American (%)  Other/Multiple (%)  Hispanic Population  \\\n",
       "0              0.0097              0.0263            2058.0340   \n",
       "1              0.1494              0.0165            3131.8560   \n",
       "2              0.0000              0.0018            2675.8977   \n",
       "3              0.0849              0.0254            2447.9184   \n",
       "4              0.0807              0.0015            1980.9863   \n",
       "\n",
       "   White Population  African American Population  Native American Population  \\\n",
       "0           70.0560                     549.8840                      1.9460   \n",
       "1          380.9520                     390.7800                      0.0000   \n",
       "2           47.0421                      23.1084                      0.0000   \n",
       "3           94.8976                     707.1520                      9.8928   \n",
       "4          165.1046                     318.9154                      2.9579   \n",
       "\n",
       "   Asian American Population  Other/Multiple Population  \n",
       "0                    26.9660                    73.1140  \n",
       "1                   699.1920                    77.2200  \n",
       "2                     0.0000                     4.9518  \n",
       "3                   311.0736                    93.0656  \n",
       "4                   217.0023                     4.0335  "
      ]
     },
     "execution_count": 43,
     "metadata": {},
     "output_type": "execute_result"
    }
   ],
   "source": [
    "full_df.head()"
   ]
  },
  {
   "cell_type": "markdown",
   "id": "da961d56",
   "metadata": {},
   "source": [
    "In the following visualizations I will be comparing the racial makeup of a census tract with its pollution burden score. As defined on the California Office of Environmental Health Hazard Assessment (OEHHA) website, pollution burden score is \"the average of Environmental Effects and Exposures components, where the Environmental Effects component is weighted one-half because we consider Environmental Effects to make a smaller contribution to Pollution Burden than Exposures do\" (OEHHA)."
   ]
  },
  {
   "cell_type": "code",
   "execution_count": 44,
   "id": "b7278a4c",
   "metadata": {},
   "outputs": [],
   "source": [
    "## This function will be used to give us the average pollution burden score \n",
    "## that a person from x demographic lives under\n",
    "def weighted_avg(pbs_array, population_array):\n",
    "    summed_pop = sum(population_array)\n",
    "    percentage_of_total_pop = population_array / summed_pop\n",
    "    return sum(pbs_array * percentage_of_total_pop)\n",
    "    "
   ]
  },
  {
   "cell_type": "code",
   "execution_count": 45,
   "id": "397c65fc",
   "metadata": {},
   "outputs": [],
   "source": [
    "race_vs_avg_pbs = pd.DataFrame(data = {\"Race\": ['Hispanic', 'White', 'African American','Native American', 'Asian American', \n",
    "                                                'Other/Multiple'] })\n",
    "avg_scores = []\n",
    "for i in categories:\n",
    "    avg_scores.append(weighted_avg(full_df[\"Pollution Burden Score\"], full_df[i + \"Population\"]))\n",
    "    \n",
    "\n",
    "race_vs_avg_pbs['Average Pollution Burden Score'] = avg_scores\n",
    "race_vs_avg_pbs = race_vs_avg_pbs.sort_values('Average Pollution Burden Score')"
   ]
  },
  {
   "cell_type": "code",
   "execution_count": 46,
   "id": "10411e85",
   "metadata": {},
   "outputs": [
    {
     "data": {
      "text/html": [
       "<div>\n",
       "<style scoped>\n",
       "    .dataframe tbody tr th:only-of-type {\n",
       "        vertical-align: middle;\n",
       "    }\n",
       "\n",
       "    .dataframe tbody tr th {\n",
       "        vertical-align: top;\n",
       "    }\n",
       "\n",
       "    .dataframe thead th {\n",
       "        text-align: right;\n",
       "    }\n",
       "</style>\n",
       "<table border=\"1\" class=\"dataframe\">\n",
       "  <thead>\n",
       "    <tr style=\"text-align: right;\">\n",
       "      <th></th>\n",
       "      <th>Race</th>\n",
       "      <th>Average Pollution Burden Score</th>\n",
       "    </tr>\n",
       "  </thead>\n",
       "  <tbody>\n",
       "    <tr>\n",
       "      <th>1</th>\n",
       "      <td>White</td>\n",
       "      <td>4.790338</td>\n",
       "    </tr>\n",
       "    <tr>\n",
       "      <th>3</th>\n",
       "      <td>Native American</td>\n",
       "      <td>4.837025</td>\n",
       "    </tr>\n",
       "    <tr>\n",
       "      <th>5</th>\n",
       "      <td>Other/Multiple</td>\n",
       "      <td>4.928697</td>\n",
       "    </tr>\n",
       "    <tr>\n",
       "      <th>4</th>\n",
       "      <td>Asian American</td>\n",
       "      <td>5.130662</td>\n",
       "    </tr>\n",
       "    <tr>\n",
       "      <th>2</th>\n",
       "      <td>African American</td>\n",
       "      <td>5.430234</td>\n",
       "    </tr>\n",
       "  </tbody>\n",
       "</table>\n",
       "</div>"
      ],
      "text/plain": [
       "               Race  Average Pollution Burden Score\n",
       "1             White                        4.790338\n",
       "3   Native American                        4.837025\n",
       "5    Other/Multiple                        4.928697\n",
       "4    Asian American                        5.130662\n",
       "2  African American                        5.430234"
      ]
     },
     "execution_count": 46,
     "metadata": {},
     "output_type": "execute_result"
    }
   ],
   "source": [
    "race_vs_avg_pbs.head()"
   ]
  },
  {
   "cell_type": "code",
   "execution_count": 146,
   "id": "ad4471cf",
   "metadata": {},
   "outputs": [
    {
     "data": {
      "image/png": "[encoded data removed]",
      "text/plain": [
       "<Figure size 432x288 with 1 Axes>"
      ]
     },
     "metadata": {
      "needs_background": "light"
     },
     "output_type": "display_data"
    }
   ],
   "source": [
    "sns.set_palette(\"Paired\")\n",
    "sns.barplot(data = race_vs_avg_pbs, x = \"Race\", y = \"Average Pollution Burden Score\")\n",
    "plt.title(\"Comparison by Race of the Average Pollution Burden Scores Where Californians are Living\", fontdict = {'fontsize' : 16})\n",
    "plt.ylim(3, 6)\n",
    "plt.xlabel(\"Race\", fontdict = {'fontsize' : 16})\n",
    "plt.ylabel(\"Mean Pollution Burden Score\", fontsize = 15)\n",
    "plt.xticks(np.arange(6), race_vs_avg_pbs[\"Race\"],fontsize=14, rotation= 65);"
   ]
  },
  {
   "cell_type": "markdown",
   "id": "3d3af317",
   "metadata": {},
   "source": [
    "### What can we Gather from this Visualization?\n",
    "Within California, White People seem to live in areas where the pollution score is lowest while Hispanic People live in areas where pollution scores are highest.\n",
    "\n"
   ]
  },
  {
   "cell_type": "code",
   "execution_count": 119,
   "id": "223e39d9-eefa-4372-979b-c2f06a7fbabc",
   "metadata": {},
   "outputs": [],
   "source": [
    "#creating DataFrame for Race-Asthma comparison\n",
    "race_vs_asthma = pd.DataFrame(data = {\"Race\": ['Hispanic', 'White', 'African American','Native American', 'Asian American', \n",
    "                                                'Other/Multiple'] })\n",
    "avg_asthma = []\n",
    "for i in categories:\n",
    "    avg_asthma.append(weighted_avg(full_df[\"Asthma\"], full_df[i + \"Population\"]))\n",
    "    \n",
    "\n",
    "race_vs_asthma['Average Emergency Asthma Visits'] = avg_asthma\n",
    "race_vs_asthma = race_vs_asthma.sort_values('Average Emergency Asthma Visits')"
   ]
  },
  {
   "cell_type": "code",
   "execution_count": 126,
   "id": "67bad062-b7fb-4fde-a5fb-0dd8c5069dde",
   "metadata": {},
   "outputs": [
    {
     "data": {
      "text/html": [
       "<div>\n",
       "<style scoped>\n",
       "    .dataframe tbody tr th:only-of-type {\n",
       "        vertical-align: middle;\n",
       "    }\n",
       "\n",
       "    .dataframe tbody tr th {\n",
       "        vertical-align: top;\n",
       "    }\n",
       "\n",
       "    .dataframe thead th {\n",
       "        text-align: right;\n",
       "    }\n",
       "</style>\n",
       "<table border=\"1\" class=\"dataframe\">\n",
       "  <thead>\n",
       "    <tr style=\"text-align: right;\">\n",
       "      <th></th>\n",
       "      <th>Race</th>\n",
       "      <th>Average Emergency Asthma Visits</th>\n",
       "    </tr>\n",
       "  </thead>\n",
       "  <tbody>\n",
       "    <tr>\n",
       "      <th>1</th>\n",
       "      <td>White</td>\n",
       "      <td>42.918209</td>\n",
       "    </tr>\n",
       "    <tr>\n",
       "      <th>4</th>\n",
       "      <td>Asian American</td>\n",
       "      <td>44.237474</td>\n",
       "    </tr>\n",
       "    <tr>\n",
       "      <th>5</th>\n",
       "      <td>Other/Multiple</td>\n",
       "      <td>49.082285</td>\n",
       "    </tr>\n",
       "    <tr>\n",
       "      <th>3</th>\n",
       "      <td>Native American</td>\n",
       "      <td>54.426066</td>\n",
       "    </tr>\n",
       "    <tr>\n",
       "      <th>0</th>\n",
       "      <td>Hispanic</td>\n",
       "      <td>60.063095</td>\n",
       "    </tr>\n",
       "    <tr>\n",
       "      <th>2</th>\n",
       "      <td>African American</td>\n",
       "      <td>73.262862</td>\n",
       "    </tr>\n",
       "  </tbody>\n",
       "</table>\n",
       "</div>"
      ],
      "text/plain": [
       "               Race  Average Emergency Asthma Visits\n",
       "1             White                        42.918209\n",
       "4    Asian American                        44.237474\n",
       "5    Other/Multiple                        49.082285\n",
       "3   Native American                        54.426066\n",
       "0          Hispanic                        60.063095\n",
       "2  African American                        73.262862"
      ]
     },
     "execution_count": 126,
     "metadata": {},
     "output_type": "execute_result"
    }
   ],
   "source": [
    "race_vs_asthma"
   ]
  },
  {
   "cell_type": "code",
   "execution_count": 147,
   "id": "92edc167-4cba-4088-ad4c-b8f15ea89055",
   "metadata": {},
   "outputs": [
    {
     "data": {
      "image/png": "[encoded data removed]",
      "text/plain": [
       "<Figure size 432x288 with 1 Axes>"
      ]
     },
     "metadata": {
      "needs_background": "light"
     },
     "output_type": "display_data"
    }
   ],
   "source": [
    "sns.set_palette(\"Paired\")\n",
    "sns.barplot(data = race_vs_asthma, x = \"Race\", y = 'Average Emergency Asthma Visits')\n",
    "plt.title(\"Racial Comparison of the Average Emergency Asthma Visit Rate Where Californians are Living\", fontsize = 16);\n",
    "plt.ylim(20, 80)\n",
    "plt.xlabel(\"Race\", fontsize= 16)\n",
    "plt.ylabel(\"Mean Emergency Asthma Rate\", fontsize = 13)\n",
    "plt.xticks(np.arange(6), race_vs_asthma[\"Race\"],fontsize=14, rotation= 60);"
   ]
  },
  {
   "cell_type": "markdown",
   "id": "399931c9-595d-49db-8cb8-a17057ff8ece",
   "metadata": {},
   "source": [
    "## Takeaways\n",
    "\n",
    "From this bar chart, we can see that white people live in areas where there are less emergency visits on average than other racial groups in California. We can also see that African Americans and Hispanic people live in areas with the highest emergency department visits for Asthma. Comparing these findings to the previous bar chart, we can see that those two racial groups also live in areas that have high pollution burden scores on average. \n",
    "\n",
    "Does living in a more polluted area heighten risk for severe Asthma? In the next part of my project I will explore whether the two are associated using A/B Testing."
   ]
  },
  {
   "cell_type": "markdown",
   "id": "d3631f62-f436-4379-8ecf-94df00eaca81",
   "metadata": {},
   "source": [
    "## A/B Testing\n",
    "\n",
    "In this section, I will conduct A/B testing to see if the distribution of Emergency Asthma visits is different in tracts with high versus low levels of pollution exposure. "
   ]
  },
  {
   "cell_type": "markdown",
   "id": "35b7e80a-ba62-48f5-bae1-4743157bc429",
   "metadata": {},
   "source": [
    "### Defining the Test\n",
    "<b> Null Hypothesis: </b> There is no difference in the distribution of emergency department asthma visits for people who live in areas with high and low pollution burden scores.\n",
    "\n",
    "<b> Alternative Hypothesis: </b> The distribution of emergency department asthma visits for people who live in areas with high pollution burden scores is higher than for people living in areas with low pollution burden scores.\n",
    "\n",
    "<b> Test Statistic: </b> Difference between mean of emergency department asthma visit rates for high pollution areas and mean of emergency department asthma visit rates for low pollution areas.\n",
    "\n",
    "<b> P-value Cutoff: </b>   5% "
   ]
  },
  {
   "cell_type": "code",
   "execution_count": 102,
   "id": "53f73550-4d5a-42c1-b2cd-beb828ae50a5",
   "metadata": {},
   "outputs": [
    {
     "data": {
      "image/png": "[encoded data removed]",
      "text/plain": [
       "<Figure size 432x288 with 1 Axes>"
      ]
     },
     "metadata": {
      "needs_background": "light"
     },
     "output_type": "display_data"
    }
   ],
   "source": [
    "# A bit of EDA to start out\n",
    "sns.histplot(full_df[\"Pollution Burden Score\"])\n",
    "plt.title(\"Distribution of Pollution Burden Scores\");"
   ]
  },
  {
   "cell_type": "code",
   "execution_count": 103,
   "id": "a328d56b-58e0-4b1a-a133-d789b90408ca",
   "metadata": {},
   "outputs": [
    {
     "data": {
      "text/plain": [
       "5.1850000000000005"
      ]
     },
     "execution_count": 103,
     "metadata": {},
     "output_type": "execute_result"
    }
   ],
   "source": [
    " np.percentile( np.array(full_df[\"Pollution Burden Score\"]), 50)"
   ]
  },
  {
   "cell_type": "markdown",
   "id": "ff63d2e8-4bcd-4a6f-a5eb-651b574854a4",
   "metadata": {},
   "source": [
    "The pollution burden score is a number in between 0 and 10. The median score in the dataset is 5.185. For my A/B test, I will define high pollution burden scores as scores that are between 6-10 and low pollution burden scores as scores between 0-4. Since we are only looking at low and high pollution scores, I will remove data from tracts with medium pollution levels (a score from 4-6)."
   ]
  },
  {
   "cell_type": "code",
   "execution_count": 104,
   "id": "f97e3848-f1ad-42e4-86d0-d233e97c7a9b",
   "metadata": {},
   "outputs": [
    {
     "data": {
      "text/html": [
       "<div>\n",
       "<style scoped>\n",
       "    .dataframe tbody tr th:only-of-type {\n",
       "        vertical-align: middle;\n",
       "    }\n",
       "\n",
       "    .dataframe tbody tr th {\n",
       "        vertical-align: top;\n",
       "    }\n",
       "\n",
       "    .dataframe thead th {\n",
       "        text-align: right;\n",
       "    }\n",
       "</style>\n",
       "<table border=\"1\" class=\"dataframe\">\n",
       "  <thead>\n",
       "    <tr style=\"text-align: right;\">\n",
       "      <th></th>\n",
       "      <th>Pollution Burden Score</th>\n",
       "      <th>Pollution level</th>\n",
       "      <th>Asthma</th>\n",
       "    </tr>\n",
       "  </thead>\n",
       "  <tbody>\n",
       "    <tr>\n",
       "      <th>0</th>\n",
       "      <td>9.64</td>\n",
       "      <td>high</td>\n",
       "      <td>129.54</td>\n",
       "    </tr>\n",
       "    <tr>\n",
       "      <th>1</th>\n",
       "      <td>8.97</td>\n",
       "      <td>high</td>\n",
       "      <td>105.88</td>\n",
       "    </tr>\n",
       "    <tr>\n",
       "      <th>2</th>\n",
       "      <td>9.48</td>\n",
       "      <td>high</td>\n",
       "      <td>76.10</td>\n",
       "    </tr>\n",
       "    <tr>\n",
       "      <th>3</th>\n",
       "      <td>8.28</td>\n",
       "      <td>high</td>\n",
       "      <td>139.45</td>\n",
       "    </tr>\n",
       "    <tr>\n",
       "      <th>4</th>\n",
       "      <td>8.16</td>\n",
       "      <td>high</td>\n",
       "      <td>139.08</td>\n",
       "    </tr>\n",
       "    <tr>\n",
       "      <th>...</th>\n",
       "      <td>...</td>\n",
       "      <td>...</td>\n",
       "      <td>...</td>\n",
       "    </tr>\n",
       "    <tr>\n",
       "      <th>4399</th>\n",
       "      <td>1.73</td>\n",
       "      <td>low</td>\n",
       "      <td>22.39</td>\n",
       "    </tr>\n",
       "    <tr>\n",
       "      <th>4400</th>\n",
       "      <td>3.65</td>\n",
       "      <td>low</td>\n",
       "      <td>77.03</td>\n",
       "    </tr>\n",
       "    <tr>\n",
       "      <th>4401</th>\n",
       "      <td>3.22</td>\n",
       "      <td>low</td>\n",
       "      <td>68.79</td>\n",
       "    </tr>\n",
       "    <tr>\n",
       "      <th>4402</th>\n",
       "      <td>6.54</td>\n",
       "      <td>high</td>\n",
       "      <td>48.36</td>\n",
       "    </tr>\n",
       "    <tr>\n",
       "      <th>4403</th>\n",
       "      <td>0.99</td>\n",
       "      <td>low</td>\n",
       "      <td>62.54</td>\n",
       "    </tr>\n",
       "  </tbody>\n",
       "</table>\n",
       "<p>4404 rows × 3 columns</p>\n",
       "</div>"
      ],
      "text/plain": [
       "      Pollution Burden Score Pollution level  Asthma\n",
       "0                       9.64            high  129.54\n",
       "1                       8.97            high  105.88\n",
       "2                       9.48            high   76.10\n",
       "3                       8.28            high  139.45\n",
       "4                       8.16            high  139.08\n",
       "...                      ...             ...     ...\n",
       "4399                    1.73             low   22.39\n",
       "4400                    3.65             low   77.03\n",
       "4401                    3.22             low   68.79\n",
       "4402                    6.54            high   48.36\n",
       "4403                    0.99             low   62.54\n",
       "\n",
       "[4404 rows x 3 columns]"
      ]
     },
     "execution_count": 104,
     "metadata": {},
     "output_type": "execute_result"
    }
   ],
   "source": [
    "## Adding \"Pollution level\" feature to DataFrame\n",
    "\n",
    "level_df = pd.DataFrame()\n",
    "score = full_df[\"Pollution Burden Score\"]\n",
    "scores = []\n",
    "level = []\n",
    "\n",
    "asthma_visits = full_df[\"Asthma\"]\n",
    "asthma = []\n",
    "\n",
    "for i in full_df.index:\n",
    "    if score[i] < 4:\n",
    "        scores.append(score[i])\n",
    "        level.append(\"low\")\n",
    "        asthma.append(asthma_visits[i])\n",
    "        \n",
    "    elif score[i] > 6:\n",
    "        scores.append(score[i])\n",
    "        level.append(\"high\")\n",
    "        asthma.append(asthma_visits[i])\n",
    "    \n",
    "level_df[\"Pollution Burden Score\"] = scores\n",
    "level_df[\"Pollution level\"] = level\n",
    "level_df[\"Asthma\"] = asthma\n",
    "level_df"
   ]
  },
  {
   "cell_type": "markdown",
   "id": "6c9a6808-e9da-4dec-9f31-77cd5d811c2b",
   "metadata": {},
   "source": [
    "From this data, we will take a sample of 300 rows to perform our hypothesis testing."
   ]
  },
  {
   "cell_type": "code",
   "execution_count": 105,
   "id": "2893c6ce-e468-47e2-8360-2df93d0cb4b1",
   "metadata": {},
   "outputs": [
    {
     "data": {
      "text/html": [
       "<div>\n",
       "<style scoped>\n",
       "    .dataframe tbody tr th:only-of-type {\n",
       "        vertical-align: middle;\n",
       "    }\n",
       "\n",
       "    .dataframe tbody tr th {\n",
       "        vertical-align: top;\n",
       "    }\n",
       "\n",
       "    .dataframe thead th {\n",
       "        text-align: right;\n",
       "    }\n",
       "</style>\n",
       "<table border=\"1\" class=\"dataframe\">\n",
       "  <thead>\n",
       "    <tr style=\"text-align: right;\">\n",
       "      <th></th>\n",
       "      <th>Pollution Burden Score</th>\n",
       "      <th>Pollution level</th>\n",
       "      <th>Asthma</th>\n",
       "    </tr>\n",
       "  </thead>\n",
       "  <tbody>\n",
       "    <tr>\n",
       "      <th>3433</th>\n",
       "      <td>3.60</td>\n",
       "      <td>low</td>\n",
       "      <td>23.94</td>\n",
       "    </tr>\n",
       "    <tr>\n",
       "      <th>3954</th>\n",
       "      <td>6.31</td>\n",
       "      <td>high</td>\n",
       "      <td>18.17</td>\n",
       "    </tr>\n",
       "    <tr>\n",
       "      <th>772</th>\n",
       "      <td>7.04</td>\n",
       "      <td>high</td>\n",
       "      <td>61.64</td>\n",
       "    </tr>\n",
       "    <tr>\n",
       "      <th>1580</th>\n",
       "      <td>6.77</td>\n",
       "      <td>high</td>\n",
       "      <td>41.18</td>\n",
       "    </tr>\n",
       "    <tr>\n",
       "      <th>2514</th>\n",
       "      <td>3.38</td>\n",
       "      <td>low</td>\n",
       "      <td>83.11</td>\n",
       "    </tr>\n",
       "    <tr>\n",
       "      <th>...</th>\n",
       "      <td>...</td>\n",
       "      <td>...</td>\n",
       "      <td>...</td>\n",
       "    </tr>\n",
       "    <tr>\n",
       "      <th>3166</th>\n",
       "      <td>3.37</td>\n",
       "      <td>low</td>\n",
       "      <td>45.57</td>\n",
       "    </tr>\n",
       "    <tr>\n",
       "      <th>2793</th>\n",
       "      <td>3.35</td>\n",
       "      <td>low</td>\n",
       "      <td>50.95</td>\n",
       "    </tr>\n",
       "    <tr>\n",
       "      <th>1818</th>\n",
       "      <td>6.45</td>\n",
       "      <td>high</td>\n",
       "      <td>47.34</td>\n",
       "    </tr>\n",
       "    <tr>\n",
       "      <th>4317</th>\n",
       "      <td>1.45</td>\n",
       "      <td>low</td>\n",
       "      <td>25.53</td>\n",
       "    </tr>\n",
       "    <tr>\n",
       "      <th>3644</th>\n",
       "      <td>2.95</td>\n",
       "      <td>low</td>\n",
       "      <td>27.25</td>\n",
       "    </tr>\n",
       "  </tbody>\n",
       "</table>\n",
       "<p>300 rows × 3 columns</p>\n",
       "</div>"
      ],
      "text/plain": [
       "      Pollution Burden Score Pollution level  Asthma\n",
       "3433                    3.60             low   23.94\n",
       "3954                    6.31            high   18.17\n",
       "772                     7.04            high   61.64\n",
       "1580                    6.77            high   41.18\n",
       "2514                    3.38             low   83.11\n",
       "...                      ...             ...     ...\n",
       "3166                    3.37             low   45.57\n",
       "2793                    3.35             low   50.95\n",
       "1818                    6.45            high   47.34\n",
       "4317                    1.45             low   25.53\n",
       "3644                    2.95             low   27.25\n",
       "\n",
       "[300 rows x 3 columns]"
      ]
     },
     "execution_count": 105,
     "metadata": {},
     "output_type": "execute_result"
    }
   ],
   "source": [
    "#sample of data to use for A/B test\n",
    "sample_df = level_df.sample(300, replace = False)\n",
    "sample_df"
   ]
  },
  {
   "cell_type": "code",
   "execution_count": 106,
   "id": "8a6cb200-c3ee-4f2e-9dc0-7db7ba17d596",
   "metadata": {},
   "outputs": [
    {
     "data": {
      "image/png": "[encoded data removed]",
      "text/plain": [
       "<Figure size 432x288 with 1 Axes>"
      ]
     },
     "metadata": {
      "needs_background": "light"
     },
     "output_type": "display_data"
    }
   ],
   "source": [
    "sns.histplot(sample_df, x = \"Asthma\", stat = 'density',hue = \"Pollution level\", element = \"step\")\n",
    "plt.xlabel(\"Rate of Emergency Department Visits for Asthma per 10,000 people\")\n",
    "plt.title(\"Distribution of Emergency Asthma Visits\");"
   ]
  },
  {
   "cell_type": "markdown",
   "id": "8bc8ca65-570e-4e6f-9d65-af8300f964f9",
   "metadata": {},
   "source": [
    "We can see a difference in these two distributions, however we can find evidence that the difference may not be due to chance using A/B testing!\n",
    "\n",
    "I will follow these steps:\n",
    "1. Calculate observed difference in mean emergency asthma visit rate for the two groups\n",
    "2. Shuffle the labels and calculate simulated test statistics for 2,000 repetitions\n",
    "3. Create a histogram and calculate the p-value of the observed test statistic"
   ]
  },
  {
   "cell_type": "code",
   "execution_count": 107,
   "id": "a46592cc-412e-4176-b573-4d070fb2f21b",
   "metadata": {},
   "outputs": [
    {
     "name": "stdout",
     "output_type": "stream",
     "text": [
      "We observe that there is a difference of 13.390496700879787 between the mean asthma emergency rate of people from high and low pollution level areas.\n"
     ]
    }
   ],
   "source": [
    "# Step 1: Calculating observed test statistic\n",
    "low_mean = np.mean(sample_df[sample_df[\"Pollution level\"] == \"low\"][\"Asthma\"])\n",
    "high_mean = np.mean(sample_df[sample_df[\"Pollution level\"] == \"high\"][\"Asthma\"])\n",
    "obs_stat = high_mean - low_mean\n",
    "print(\"We observe that there is a difference of\", obs_stat, \n",
    "      \"between the mean asthma emergency rate of people from high and low pollution level areas.\")\n"
   ]
  },
  {
   "cell_type": "code",
   "execution_count": 108,
   "id": "510a3c0e-106f-4ed3-8032-5939a224e423",
   "metadata": {},
   "outputs": [],
   "source": [
    "def simulate_test_stat(tbl):\n",
    "    \"\"\"This function takes in our sample and returns a simulated test statistic\"\"\"\n",
    "    shuffled_labels = np.array(tbl.sample(len(tbl), replace = False)[\"Pollution level\"])\n",
    "    tbl[\"Shuffled\"] = shuffled_labels\n",
    "    low_mean = np.mean(tbl[tbl[\"Shuffled\"] == \"low\"][\"Asthma\"])\n",
    "    high_mean = np.mean(tbl[tbl[\"Shuffled\"] == \"high\"][\"Asthma\"])\n",
    "    return high_mean - low_mean"
   ]
  },
  {
   "cell_type": "code",
   "execution_count": 109,
   "id": "fbfc4c9d-ddde-403a-a2f3-2dbb03e18005",
   "metadata": {},
   "outputs": [],
   "source": [
    "def simulated_stats():\n",
    "    \"\"\"Outputs 2000 simulated test statistics\"\"\"\n",
    "    simulated_stats = []\n",
    "    for i in np.arange(2000):\n",
    "        simulated_stats.append(simulate_test_stat(sample_df))\n",
    "    return simulated_stats"
   ]
  },
  {
   "cell_type": "code",
   "execution_count": 110,
   "id": "28c9b103-d6fc-481f-a607-2b1e0fe01ac6",
   "metadata": {},
   "outputs": [],
   "source": [
    "sims = simulated_stats()"
   ]
  },
  {
   "cell_type": "code",
   "execution_count": 111,
   "id": "12a1422e-fbc1-4909-9186-9fb7c8b15e50",
   "metadata": {},
   "outputs": [
    {
     "data": {
      "image/png": "[encoded data removed]",
      "text/plain": [
       "<Figure size 432x288 with 1 Axes>"
      ]
     },
     "metadata": {
      "needs_background": "light"
     },
     "output_type": "display_data"
    }
   ],
   "source": [
    "sns.histplot(sims)\n",
    "plt.plot(obs_stat, 4, \"ro\")\n",
    "plt.title(\"Simulated Statistics\");"
   ]
  },
  {
   "cell_type": "markdown",
   "id": "82cdf85c-e495-4537-b400-4396f46fa94e",
   "metadata": {},
   "source": [
    "I plotted the observed test statistic using a red dot."
   ]
  },
  {
   "cell_type": "code",
   "execution_count": 112,
   "id": "e7f45d59-0ef1-495a-b847-f73acf16c46e",
   "metadata": {},
   "outputs": [
    {
     "name": "stdout",
     "output_type": "stream",
     "text": [
      "p-value: 0.0\n"
     ]
    }
   ],
   "source": [
    "\n",
    "p_value = np.count_nonzero(np.array(sims) >= obs_stat) / 2000\n",
    "print(\"p-value:\", p_value)"
   ]
  },
  {
   "cell_type": "markdown",
   "id": "ba4325ef-5da4-43c5-9509-9a4572206b8e",
   "metadata": {},
   "source": [
    "## Conclusion of the Test\n",
    "\n",
    "Because our calculated p-value is 0, at a 5% p-value cutoff, we can reject the null hypothesis and conclude that there is evidence in support of the alternative hypothesis. This evidence points to the conclusion that there high pollution levels in an area is associated with more emergency department visits for asthma in the area."
   ]
  }
 ],
 "metadata": {
  "kernelspec": {
   "display_name": "Python 3 (ipykernel)",
   "language": "python",
   "name": "python3"
  },
  "language_info": {
   "codemirror_mode": {
    "name": "ipython",
    "version": 3
   },
   "file_extension": ".py",
   "mimetype": "text/x-python",
   "name": "python",
   "nbconvert_exporter": "python",
   "pygments_lexer": "ipython3",
   "version": "3.9.12"
  }
 },
 "nbformat": 4,
 "nbformat_minor": 5
}
